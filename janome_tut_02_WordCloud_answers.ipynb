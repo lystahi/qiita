{
  "nbformat": 4,
  "nbformat_minor": 0,
  "metadata": {
    "colab": {
      "name": "janome_tut_02_WordCloud_answers.ipynb",
      "provenance": [],
      "collapsed_sections": []
    },
    "kernelspec": {
      "name": "python3",
      "display_name": "Python 3"
    }
  },
  "cells": [
    {
      "cell_type": "markdown",
      "metadata": {
        "id": "AmhoBlsT0Znm"
      },
      "source": [
        "## ハンズオン課題2 解答\n",
        "\n",
        "**実行するには，メニューの「PLAYGROUNDで開く」を押してください。（Google アカウントが必要です。）**\n",
        "\n",
        "\n"
      ]
    },
    {
      "cell_type": "markdown",
      "metadata": {
        "id": "K5p0obi3f__o"
      },
      "source": [
        "### 準備"
      ]
    },
    {
      "cell_type": "code",
      "metadata": {
        "id": "pCVzMM3N0UCd"
      },
      "source": [
        "# janome をインストール\n",
        "!pip install janome"
      ],
      "execution_count": null,
      "outputs": []
    },
    {
      "cell_type": "code",
      "metadata": {
        "id": "X-bFBQXpfu_X"
      },
      "source": [
        "# 2 つのファイルをアップロードしておいてください\n",
        "# https://ipafont.ipa.go.jp/old/ipafont/download.html から TTFファイル「IPA P ゴシック」をダウンロードして手元で解凍し，`ipagp.ttf` ファイルを Google Colab にアップロード\n",
        "# janome-tutorial/hands-on/data/kazeno_matasaburo_utf8.txt を Google Colab にアップロード\n",
        "from google.colab import files\n",
        "uploaded = files.upload()"
      ],
      "execution_count": null,
      "outputs": []
    },
    {
      "cell_type": "markdown",
      "metadata": {
        "id": "jPTNiYZM1rwd"
      },
      "source": [
        "### 2-1 解答例\n",
        "\n",
        "janome で形態素解析し，表層形のみ取り出して `words.txt` に書き出す。"
      ]
    },
    {
      "cell_type": "code",
      "metadata": {
        "id": "OvyJ4x2W1-_m"
      },
      "source": [
        "# 日本語 WordCloud 生成\n",
        "from wordcloud import WordCloud\n",
        "import matplotlib.pyplot as plt\n",
        "from janome.tokenizer import Tokenizer\n",
        "\n",
        "def split_text(src, out):\n",
        "    \"\"\"\n",
        "    src で渡されたファイルを読み，単語分割して out に書き出します。\n",
        "    \"\"\"\n",
        "    t = Tokenizer()\n",
        "    with open(src, encoding='utf8') as f1:\n",
        "        with open(out, mode='w', encoding='utf8') as f2:\n",
        "            for line in f1:\n",
        "                tokens = t.tokenize(line, wakati=True)\n",
        "                f2.write('%s\\n' % ' '.join(tokens))\n",
        "\n",
        "\n",
        "def show_wordcloud(file):\n",
        "    with open(file, encoding='utf8') as f:\n",
        "        text = f.read()\n",
        "        wordcloud = WordCloud(font_path='ipagp.ttf', background_color='white', width=1024, height=674).generate(text)\n",
        "        plt.imshow(wordcloud, interpolation='bilinear')\n",
        "        plt.axis(\"off\")\n",
        "        plt.figure()\n",
        "        plt.show()\n",
        "        \n",
        "split_text('kazeno_matasaburo_utf8.txt', 'words.txt')\n",
        "show_wordcloud('words.txt')  "
      ],
      "execution_count": null,
      "outputs": []
    }
  ]
}