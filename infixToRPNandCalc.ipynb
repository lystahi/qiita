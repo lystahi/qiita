{
  "nbformat": 4,
  "nbformat_minor": 0,
  "metadata": {
    "colab": {
      "name": "infixToRPNandCalc.ipynb",
      "provenance": [],
      "collapsed_sections": [],
      "include_colab_link": true
    },
    "kernelspec": {
      "name": "python3",
      "display_name": "Python 3"
    }
  },
  "cells": [
    {
      "cell_type": "markdown",
      "metadata": {
        "id": "view-in-github",
        "colab_type": "text"
      },
      "source": [
        "<a href=\"https://colab.research.google.com/github/lystahi/qiita/blob/master/infixToRPNandCalc.ipynb\" target=\"_parent\"><img src=\"https://colab.research.google.com/assets/colab-badge.svg\" alt=\"Open In Colab\"/></a>"
      ]
    },
    {
      "cell_type": "code",
      "metadata": {
        "id": "2_p-u-B6mCB5",
        "colab_type": "code",
        "colab": {
          "base_uri": "https://localhost:8080/",
          "height": 119
        },
        "outputId": "03ff37ed-db3b-403b-e3f8-45b71f8c9e74"
      },
      "source": [
        "#演算子のための定数\n",
        "LEFT_ASSOC = 0\n",
        "RIGHT_ASSOC = 1\n",
        " \n",
        "#対応する演算子\n",
        "OPERATORS = {\n",
        "    '+' : (0, LEFT_ASSOC),\n",
        "    '-' : (0, LEFT_ASSOC),\n",
        "    '*' : (5, LEFT_ASSOC),\n",
        "    '/' : (5, LEFT_ASSOC),\n",
        "    '%' : (5, LEFT_ASSOC),\n",
        "    '^' : (10, RIGHT_ASSOC)\n",
        "}\n",
        " \n",
        "#演算子かどうかの確認\n",
        "def is_operator(token):\n",
        "    return token in OPERATORS.keys()\n",
        " \n",
        "#結合性の確認\n",
        "def is_associative(token, assoc):\n",
        "    if not is_operator(token):\n",
        "        raise ValueError('Invalid token: %s' % token)\n",
        "    return OPERATORS[token][1] == assoc\n",
        " \n",
        "#二つの記号の優先順位を確認\n",
        "def cmp_precedence(token1, token2):\n",
        "    if not is_operator(token1) or not is_operator(token2):\n",
        "        raise ValueError('Invalid tokens: %s %s' % (token1, token2))\n",
        "    return OPERATORS[token1][0] - OPERATORS[token2][0]\n",
        " \n",
        "#中置記法を逆ポーランド記法に変換する\n",
        "def infix_to_RPN(tokens):\n",
        "    out = []\n",
        "    stack = []\n",
        "    for token in tokens:\n",
        "        if is_operator(token):\n",
        "            while len(stack) != 0 and is_operator(stack[-1]):\n",
        "                if (is_associative(token, LEFT_ASSOC) and\n",
        "                    cmp_precedence(token, stack[-1]) <= 0) or(\n",
        "                    is_associative(token, RIGHT_ASSOC) and\n",
        "                    cmp_precedence(token, stack[-1]) < 0):\n",
        "                    out.append(stack.pop())\n",
        "                    continue\n",
        "                break\n",
        "            stack.append(token)\n",
        "        elif token == '(':\n",
        "            stack.append(token)\n",
        "        elif token == ')':\n",
        "            while len(stack) != 0 and stack[-1] != '(':\n",
        "                out.append(stack.pop())\n",
        "            stack.pop()\n",
        "        else:\n",
        "            out.append(token)\n",
        "    while len(stack) != 0:\n",
        "        out.append(stack.pop())\n",
        "    return out\n",
        " \n",
        "#リストの要素をタブ区切りの文字列にする\n",
        "def list_to_str_with_space(lst):\n",
        "  str_w_space = '\\t'.join([i for i in lst])\n",
        "  return str_w_space\n",
        "\n",
        "ops = {\n",
        "  \"+\": (lambda a, b: a + b),\n",
        "  \"-\": (lambda a, b: a - b),\n",
        "  \"*\": (lambda a, b: a * b),\n",
        "  \"/\": (lambda a, b: a / b),\n",
        "  \"^\": (lambda a, b: a ** b)\n",
        "}\n",
        "\n",
        "#逆ポーランド記法の数式を計算する\n",
        "def calc_RPN(expression):\n",
        "  tokens_RPN = expression.split()\n",
        "  stack = []\n",
        "\n",
        "  for token in tokens_RPN:\n",
        "    if token in ops:\n",
        "      arg2 = stack.pop()\n",
        "      arg1 = stack.pop()\n",
        "      result = ops[token](arg1, arg2)\n",
        "      stack.append(result)\n",
        "    else:\n",
        "      stack.append(int(token))\n",
        "\n",
        "  return stack.pop()\n",
        "\n",
        "#入力と出力のための関数\n",
        "def in_and_out(input_equation):\n",
        "    output = infix_to_RPN(input_equation.split(\" \"))\n",
        "    stri = list_to_str_with_space(output)\n",
        "    print(stri)\n",
        "    result = calc_RPN(stri)\n",
        "    print(result)\n",
        "\n",
        "if __name__ == '__main__':\n",
        "    in_and_out(\"( 1 + 2 ) * ( 3 / 4 ) ^ ( 5 + 6 )\")\n",
        "    in_and_out(\"( 2 + 3 ) * ( 4 / 5 ) ^ ( 6 + 7 )\")\n",
        "    in_and_out(\"( 7 + 6 ) * ( 5 / 4 ) ^ ( 3 + 2 )\")"
      ],
      "execution_count": 1,
      "outputs": [
        {
          "output_type": "stream",
          "text": [
            "1\t2\t+\t3\t4\t/\t5\t6\t+\t^\t*\n",
            "0.12670540809631348\n",
            "2\t3\t+\t4\t5\t/\t6\t7\t+\t^\t*\n",
            "0.27487790694400016\n",
            "7\t6\t+\t5\t4\t/\t3\t2\t+\t^\t*\n",
            "39.6728515625\n"
          ],
          "name": "stdout"
        }
      ]
    }
  ]
}